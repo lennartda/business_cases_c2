{
 "cells": [
  {
   "cell_type": "markdown",
   "metadata": {},
   "source": [
    "\n",
    "# Business Cases with Data Science \n",
    "\n",
    "## Case 2: Market Basket Analysis\n",
    "\n",
    "#### Semester: Spring 2020\n",
    "#### Group (Palm & Company) Member:\n",
    "1. Pedro Santos (M20190420)\n",
    "2. Ana Claudia Alferes (M20190932)\n",
    "3. Lennart Dangers (M20190251)\n",
    "4. Michael Machatschek (M20190054)\n",
    "\n",
    "#### This project follows the CRISP-DM Process:\n",
    "\n",
    "1. Business Understanding\n",
    "2. Data Understanding\n",
    "3. Data Preparation\n",
    "4. Modelling\n",
    "5. Evaluation\n",
    "6. Deployment\n",
    "\n",
    "This jupypter-notebook provides the code in python to do a market basket analysis of a given dataset. A more detailed description of this project and the solutions can be found in the report. "
   ]
  },
  {
   "cell_type": "markdown",
   "metadata": {},
   "source": [
    "# Step 1: Business Understanding\n",
    "\n",
    "Please consult our report for further details. "
   ]
  },
  {
   "cell_type": "markdown",
   "metadata": {},
   "source": [
    "# Step 2: Data Understanding\n",
    "\n",
    "## Dataset Description\n",
    "\n",
    "A data dictionary is available in the appendix of our report.\n",
    " \n",
    " \n",
    " \n",
    " #### The following code will help to explore and understand the entire dataset. "
   ]
  },
  {
   "cell_type": "code",
   "execution_count": 8,
   "metadata": {
    "ExecuteTime": {
     "end_time": "2020-03-08T11:51:14.222172Z",
     "start_time": "2020-03-08T11:51:10.110531Z"
    }
   },
   "outputs": [],
   "source": [
    "# Import packages\n",
    "import csv\n",
    "import pandas as pd\n",
    "import numpy as np\n",
    "import datetime as dt\n",
    "from mlxtend.frequent_patterns import apriori\n",
    "from mlxtend.frequent_patterns import association_rules\n",
    "import matplotlib.pyplot as plt\n",
    "import networkx as nx\n",
    "import plotly.graph_objects as go"
   ]
  },
  {
   "cell_type": "code",
   "execution_count": 3,
   "metadata": {
    "ExecuteTime": {
     "end_time": "2020-03-08T11:46:29.739453Z",
     "start_time": "2020-03-08T11:46:29.058182Z"
    }
   },
   "outputs": [],
   "source": [
    "# Load and show dataset sample (Chain of Asian Restaurant sales January 2018)\n",
    "dtypes = {'DocNumber':'category','ProductDesignation':'category'}\n",
    "df_par = pd.DataFrame(pd.read_csv(\"AsianRestaurant_Cyprus_2018_partial.txt\",sep=\";\", dtype=dtypes))\n",
    "df = pd.DataFrame(pd.read_csv(\"AsianRestaurant_Cyprus_2018.txt\", sep=\";\"))"
   ]
  },
  {
   "cell_type": "code",
   "execution_count": 7,
   "metadata": {
    "ExecuteTime": {
     "end_time": "2020-03-08T11:47:23.447957Z",
     "start_time": "2020-03-08T11:47:23.388047Z"
    }
   },
   "outputs": [
    {
     "data": {
      "text/html": [
       "<div>\n",
       "<style scoped>\n",
       "    .dataframe tbody tr th:only-of-type {\n",
       "        vertical-align: middle;\n",
       "    }\n",
       "\n",
       "    .dataframe tbody tr th {\n",
       "        vertical-align: top;\n",
       "    }\n",
       "\n",
       "    .dataframe thead th {\n",
       "        text-align: right;\n",
       "    }\n",
       "</style>\n",
       "<table border=\"1\" class=\"dataframe\">\n",
       "  <thead>\n",
       "    <tr style=\"text-align: right;\">\n",
       "      <th></th>\n",
       "      <th>DocNumber</th>\n",
       "      <th>ProductDesignation</th>\n",
       "      <th>ProductFamily</th>\n",
       "      <th>Qty</th>\n",
       "      <th>TotalAmount</th>\n",
       "      <th>InvoiceDateHour</th>\n",
       "      <th>EmployeeID</th>\n",
       "      <th>IsDelivery</th>\n",
       "      <th>Pax</th>\n",
       "      <th>CustomerID</th>\n",
       "      <th>CustomerCity</th>\n",
       "      <th>CustomerSince</th>\n",
       "    </tr>\n",
       "  </thead>\n",
       "  <tbody>\n",
       "    <tr>\n",
       "      <td>0</td>\n",
       "      <td>110000012018</td>\n",
       "      <td>SWEETCORN SOUP</td>\n",
       "      <td>SOUPS</td>\n",
       "      <td>2.0</td>\n",
       "      <td>12,00</td>\n",
       "      <td>2018-01-01 21:47:27.000</td>\n",
       "      <td>2</td>\n",
       "      <td>0</td>\n",
       "      <td>2</td>\n",
       "      <td>0</td>\n",
       "      <td>NaN</td>\n",
       "      <td>NaN</td>\n",
       "    </tr>\n",
       "    <tr>\n",
       "      <td>1</td>\n",
       "      <td>110000012018</td>\n",
       "      <td>SPRING ROLL</td>\n",
       "      <td>STARTERS</td>\n",
       "      <td>2.0</td>\n",
       "      <td>5,80</td>\n",
       "      <td>2018-01-01 21:47:27.000</td>\n",
       "      <td>2</td>\n",
       "      <td>0</td>\n",
       "      <td>2</td>\n",
       "      <td>0</td>\n",
       "      <td>NaN</td>\n",
       "      <td>NaN</td>\n",
       "    </tr>\n",
       "    <tr>\n",
       "      <td>2</td>\n",
       "      <td>110000012018</td>\n",
       "      <td>EGG FRIED RICE</td>\n",
       "      <td>RICE</td>\n",
       "      <td>1.0</td>\n",
       "      <td>6,90</td>\n",
       "      <td>2018-01-01 21:47:27.000</td>\n",
       "      <td>2</td>\n",
       "      <td>0</td>\n",
       "      <td>2</td>\n",
       "      <td>0</td>\n",
       "      <td>NaN</td>\n",
       "      <td>NaN</td>\n",
       "    </tr>\n",
       "    <tr>\n",
       "      <td>3</td>\n",
       "      <td>110000012018</td>\n",
       "      <td>SWEET SOUR CHICKEN</td>\n",
       "      <td>MEAT</td>\n",
       "      <td>1.0</td>\n",
       "      <td>12,60</td>\n",
       "      <td>2018-01-01 21:47:27.000</td>\n",
       "      <td>2</td>\n",
       "      <td>0</td>\n",
       "      <td>2</td>\n",
       "      <td>0</td>\n",
       "      <td>NaN</td>\n",
       "      <td>NaN</td>\n",
       "    </tr>\n",
       "    <tr>\n",
       "      <td>4</td>\n",
       "      <td>110000012018</td>\n",
       "      <td>LAMB ROGAN JOSH</td>\n",
       "      <td>MAIN IND</td>\n",
       "      <td>1.0</td>\n",
       "      <td>14,60</td>\n",
       "      <td>2018-01-01 21:47:27.000</td>\n",
       "      <td>2</td>\n",
       "      <td>0</td>\n",
       "      <td>2</td>\n",
       "      <td>0</td>\n",
       "      <td>NaN</td>\n",
       "      <td>NaN</td>\n",
       "    </tr>\n",
       "  </tbody>\n",
       "</table>\n",
       "</div>"
      ],
      "text/plain": [
       "      DocNumber  ProductDesignation ProductFamily  Qty TotalAmount  \\\n",
       "0  110000012018      SWEETCORN SOUP         SOUPS  2.0       12,00   \n",
       "1  110000012018         SPRING ROLL      STARTERS  2.0        5,80   \n",
       "2  110000012018      EGG FRIED RICE          RICE  1.0        6,90   \n",
       "3  110000012018  SWEET SOUR CHICKEN          MEAT  1.0       12,60   \n",
       "4  110000012018     LAMB ROGAN JOSH      MAIN IND  1.0       14,60   \n",
       "\n",
       "           InvoiceDateHour  EmployeeID  IsDelivery  Pax  CustomerID  \\\n",
       "0  2018-01-01 21:47:27.000           2           0    2           0   \n",
       "1  2018-01-01 21:47:27.000           2           0    2           0   \n",
       "2  2018-01-01 21:47:27.000           2           0    2           0   \n",
       "3  2018-01-01 21:47:27.000           2           0    2           0   \n",
       "4  2018-01-01 21:47:27.000           2           0    2           0   \n",
       "\n",
       "  CustomerCity CustomerSince  \n",
       "0          NaN           NaN  \n",
       "1          NaN           NaN  \n",
       "2          NaN           NaN  \n",
       "3          NaN           NaN  \n",
       "4          NaN           NaN  "
      ]
     },
     "execution_count": 7,
     "metadata": {},
     "output_type": "execute_result"
    }
   ],
   "source": [
    "df.head()"
   ]
  },
  {
   "cell_type": "code",
   "execution_count": 6,
   "metadata": {
    "ExecuteTime": {
     "end_time": "2020-03-08T11:47:09.820335Z",
     "start_time": "2020-03-08T11:47:09.680521Z"
    }
   },
   "outputs": [
    {
     "data": {
      "text/plain": [
       "DocNumber                 0\n",
       "ProductDesignation        0\n",
       "ProductFamily             0\n",
       "Qty                       0\n",
       "TotalAmount               0\n",
       "InvoiceDateHour           0\n",
       "EmployeeID                0\n",
       "IsDelivery                0\n",
       "Pax                       0\n",
       "CustomerID                0\n",
       "CustomerCity          52861\n",
       "CustomerSince         54967\n",
       "dtype: int64"
      ]
     },
     "execution_count": 6,
     "metadata": {},
     "output_type": "execute_result"
    }
   ],
   "source": [
    "df.isnull().sum()"
   ]
  }
 ],
 "metadata": {
  "kernelspec": {
   "display_name": "Python 3",
   "language": "python",
   "name": "python3"
  },
  "language_info": {
   "codemirror_mode": {
    "name": "ipython",
    "version": 3
   },
   "file_extension": ".py",
   "mimetype": "text/x-python",
   "name": "python",
   "nbconvert_exporter": "python",
   "pygments_lexer": "ipython3",
   "version": "3.7.4"
  },
  "toc": {
   "base_numbering": 1,
   "nav_menu": {},
   "number_sections": true,
   "sideBar": true,
   "skip_h1_title": false,
   "title_cell": "Table of Contents",
   "title_sidebar": "Contents",
   "toc_cell": false,
   "toc_position": {},
   "toc_section_display": true,
   "toc_window_display": false
  },
  "varInspector": {
   "cols": {
    "lenName": 16,
    "lenType": 16,
    "lenVar": 40
   },
   "kernels_config": {
    "python": {
     "delete_cmd_postfix": "",
     "delete_cmd_prefix": "del ",
     "library": "var_list.py",
     "varRefreshCmd": "print(var_dic_list())"
    },
    "r": {
     "delete_cmd_postfix": ") ",
     "delete_cmd_prefix": "rm(",
     "library": "var_list.r",
     "varRefreshCmd": "cat(var_dic_list()) "
    }
   },
   "types_to_exclude": [
    "module",
    "function",
    "builtin_function_or_method",
    "instance",
    "_Feature"
   ],
   "window_display": false
  }
 },
 "nbformat": 4,
 "nbformat_minor": 2
}
